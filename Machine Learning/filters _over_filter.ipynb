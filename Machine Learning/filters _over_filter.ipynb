{
 "cells": [
  {
   "cell_type": "code",
   "execution_count": 1,
   "metadata": {},
   "outputs": [
    {
     "name": "stdout",
     "output_type": "stream",
     "text": [
      "Press 's' to capture an image.\n",
      "Image captured.\n"
     ]
    }
   ],
   "source": [
    "import cv2\n",
    "import numpy as np\n",
    "\n",
    "def apply_filters(image):\n",
    "    # 1. Original Image\n",
    "    cv2.imshow('Original Image', image)\n",
    "    cv2.waitKey(2000)  # Wait for 2 seconds before showing the next filter\n",
    "\n",
    "    # 2. Apply Gaussian Blur\n",
    "    gaussian_blur = cv2.GaussianBlur(image, (15, 15), 0)\n",
    "    cv2.imshow('Gaussian Blur', gaussian_blur)\n",
    "    cv2.waitKey(2000)  # Wait for 2 seconds before showing the next filter\n",
    "\n",
    "    # 3. Apply Median Blur\n",
    "    median_blur = cv2.medianBlur(image, 15)\n",
    "    cv2.imshow('Median Blur', median_blur)\n",
    "    cv2.waitKey(2000)  # Wait for 2 seconds before showing the next filter\n",
    "\n",
    "    # 4. Apply Bilateral Filter\n",
    "    bilateral_filter = cv2.bilateralFilter(image, 15, 75, 75)\n",
    "    cv2.imshow('Bilateral Filter', bilateral_filter)\n",
    "    cv2.waitKey(2000)  # Wait for 2 seconds before showing the next filter\n",
    "\n",
    "    # 5. Apply Edge Detection (Canny)\n",
    "    edges = cv2.Canny(image, 100, 200)\n",
    "    cv2.imshow('Edge Detection (Canny)', edges)\n",
    "    cv2.waitKey(2000)  # Wait for 2 seconds before showing the next filter\n",
    "\n",
    "    # 6. Apply Sharpening Filter\n",
    "    kernel = np.array([[0, -1, 0],\n",
    "                       [-1, 5, -1],\n",
    "                       [0, -1, 0]])\n",
    "    sharpened = cv2.filter2D(image, -1, kernel)\n",
    "    cv2.imshow('Sharpened Image', sharpened)\n",
    "    cv2.waitKey(2000)  # Wait for 2 seconds before showing the next filter\n",
    "\n",
    "    # 7. Apply Emboss Filter\n",
    "    kernel_emboss = np.array([[-2, -1, 0],\n",
    "                              [-1, 1, 1],\n",
    "                              [0, 1, 2]])\n",
    "    embossed = cv2.filter2D(image, -1, kernel_emboss)\n",
    "    cv2.imshow('Embossed Image', embossed)\n",
    "    cv2.waitKey(2000)  # Wait for 2 seconds before showing the next filter\n",
    "\n",
    "    # Close all windows after all filters are displayed\n",
    "    cv2.destroyAllWindows()\n",
    "\n",
    "def capture_image():\n",
    "    # Initialize webcam\n",
    "    cap = cv2.VideoCapture(0)\n",
    "    if not cap.isOpened():\n",
    "        print(\"Error: Could not open video capture.\")\n",
    "        return None\n",
    "\n",
    "    print(\"Press 's' to capture an image.\")\n",
    "\n",
    "    while True:\n",
    "        ret, frame = cap.read()\n",
    "        if not ret:\n",
    "            print(\"Error: Failed to grab frame.\")\n",
    "            break\n",
    "\n",
    "        cv2.imshow('Webcam', frame)\n",
    "\n",
    "        # Capture image on 's' key press\n",
    "        key = cv2.waitKey(1)\n",
    "        if key == ord('s'):\n",
    "            print(\"Image captured.\")\n",
    "            break\n",
    "\n",
    "    cap.release()\n",
    "    cv2.waitKey()\n",
    "    cv2.destroyAllWindows()\n",
    "    return frame\n",
    "\n",
    "if __name__ == \"__main__\":\n",
    "    # Capture image from webcam\n",
    "    captured_image = capture_image()\n",
    "    if captured_image is not None:\n",
    "        apply_filters(captured_image)\n"
   ]
  },
  {
   "cell_type": "code",
   "execution_count": null,
   "metadata": {},
   "outputs": [],
   "source": []
  }
 ],
 "metadata": {
  "kernelspec": {
   "display_name": "Python 3",
   "language": "python",
   "name": "python3"
  },
  "language_info": {
   "codemirror_mode": {
    "name": "ipython",
    "version": 3
   },
   "file_extension": ".py",
   "mimetype": "text/x-python",
   "name": "python",
   "nbconvert_exporter": "python",
   "pygments_lexer": "ipython3",
   "version": "3.12.0"
  }
 },
 "nbformat": 4,
 "nbformat_minor": 2
}
