{
 "cells": [
  {
   "cell_type": "code",
   "execution_count": 1,
   "id": "31bbc961",
   "metadata": {},
   "outputs": [
    {
     "name": "stdout",
     "output_type": "stream",
     "text": [
      "Press 's' to capture an image.\n",
      "Image captured.\n"
     ]
    }
   ],
   "source": [
    "import cv2\n",
    "import numpy as np\n",
    "\n",
    "# Load OpenCV's pre-trained Haar Cascade model for face detection\n",
    "face_cascade = cv2.CascadeClassifier(cv2.data.haarcascades + 'haarcascade_frontalface_default.xml')\n",
    "\n",
    "def detect_and_crop_face(image):\n",
    "    gray = cv2.cvtColor(image, cv2.COLOR_BGR2GRAY)\n",
    "    \n",
    "    # Detect faces\n",
    "    faces = face_cascade.detectMultiScale(gray, scaleFactor=1.1, minNeighbors=5, minSize=(30, 30))\n",
    "    \n",
    "    if len(faces) == 0:\n",
    "        print(\"No face detected.\")\n",
    "        return image\n",
    "    \n",
    "    for (x, y, w, h) in faces:\n",
    "        # Crop the face\n",
    "        cropped_face = image[y:y+h, x:x+w]\n",
    "        \n",
    "        # Resize cropped face to fit on the original image\n",
    "        resized_face = cv2.resize(cropped_face, (100, 100))  # Adjust size as needed\n",
    "        \n",
    "        # Place the resized face on the original image\n",
    "        image[y:y+100, x:x+100] = resized_face\n",
    "        \n",
    "    return image\n",
    "\n",
    "def capture_image():\n",
    "    # Initialize webcam\n",
    "    cap = cv2.VideoCapture(0)\n",
    "    if not cap.isOpened():\n",
    "        print(\"Error: Could not open video capture.\")\n",
    "        return None\n",
    "\n",
    "    print(\"Press 's' to capture an image.\")\n",
    "\n",
    "    while True:\n",
    "        ret, frame = cap.read()\n",
    "        if not ret:\n",
    "            print(\"Error: Failed to grab frame.\")\n",
    "            break\n",
    "        \n",
    "        cv2.imshow('Webcam', frame)\n",
    "        \n",
    "        # Capture image on 's' key press\n",
    "        key = cv2.waitKey(1)\n",
    "        if key == ord('s'):\n",
    "            print(\"Image captured.\")\n",
    "            break\n",
    "    \n",
    "    cap.release()\n",
    "    cv2.destroyAllWindows()\n",
    "    return frame\n",
    "\n",
    "# Example usage\n",
    "if __name__ == \"__main__\":\n",
    "    # Capture image from webcam\n",
    "    captured_image = capture_image()\n",
    "    if captured_image is not None:\n",
    "        result_image = detect_and_crop_face(captured_image)\n",
    "        \n",
    "        # Save and display the result\n",
    "        cv2.imwrite('output_image.jpg', result_image)\n",
    "        cv2.imshow('Image with Cropped Face', result_image)\n",
    "        cv2.waitKey(0)\n",
    "        cv2.destroyAllWindows()\n"
   ]
  },
  {
   "cell_type": "code",
   "execution_count": null,
   "id": "ed0986c7",
   "metadata": {},
   "outputs": [],
   "source": []
  }
 ],
 "metadata": {
  "kernelspec": {
   "display_name": "Python 3 (ipykernel)",
   "language": "python",
   "name": "python3"
  },
  "language_info": {
   "codemirror_mode": {
    "name": "ipython",
    "version": 3
   },
   "file_extension": ".py",
   "mimetype": "text/x-python",
   "name": "python",
   "nbconvert_exporter": "python",
   "pygments_lexer": "ipython3",
   "version": "3.11.4"
  }
 },
 "nbformat": 4,
 "nbformat_minor": 5
}
